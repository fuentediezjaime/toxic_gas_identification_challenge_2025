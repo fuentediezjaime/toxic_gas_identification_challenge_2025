{
 "cells": [
  {
   "cell_type": "code",
   "execution_count": 1,
   "id": "e1914b72",
   "metadata": {},
   "outputs": [],
   "source": [
    "import pandas as pd\n",
    "import seaborn as sns\n",
    "import matplotlib.pyplot as plt\n",
    "import numpy as np\n",
    "from sklearn.cluster import AgglomerativeClustering\n",
    "from sklearn.metrics import silhouette_score\n",
    "from scipy.cluster.hierarchy import linkage, dendrogram\n",
    "from scipy.spatial.distance import squareform\n"
   ]
  },
  {
   "cell_type": "code",
   "execution_count": 2,
   "id": "f6615329",
   "metadata": {},
   "outputs": [],
   "source": [
    "# Load the data\n",
    "features_raw = pd.read_csv('../dataset/x_train_T9QMMVq.csv',index_col=False).drop('ID',axis=1)\n",
    "labels_raw = pd.read_csv('../dataset/y_train_R0MqWmu.csv').drop('ID', axis=1)"
   ]
  },
  {
   "cell_type": "code",
   "execution_count": 4,
   "id": "fd598862",
   "metadata": {},
   "outputs": [
    {
     "name": "stdout",
     "output_type": "stream",
     "text": [
      "(202933, 13)\n",
      "(202933, 23)\n"
     ]
    }
   ],
   "source": [
    "print(features_raw.shape)\n",
    "print(labels_raw.shape)"
   ]
  },
  {
   "cell_type": "markdown",
   "id": "98c92ce6",
   "metadata": {},
   "source": [
    "## Seeking structure on the input"
   ]
  },
  {
   "cell_type": "markdown",
   "id": "c1ebc1c4",
   "metadata": {},
   "source": [
    "#### Study the input correlation matrix"
   ]
  },
  {
   "cell_type": "code",
   "execution_count": 5,
   "id": "706acf33",
   "metadata": {},
   "outputs": [],
   "source": [
    "corr_features = features_raw.corr()"
   ]
  },
  {
   "cell_type": "code",
   "execution_count": null,
   "id": "ff718c50",
   "metadata": {},
   "outputs": [],
   "source": [
    "f,ax = plt.subplots(1,2,figsize=(10,5))\n",
    "sns.heatmap(corr_features,ax=ax[0])#, annot=True)\n",
    "sns.heatmap(np.log10(corr_features),ax=ax[1])#, annot=True)\n",
    "ax[0].set_title('Feature correlation')\n",
    "ax[1].set_title('Feature log correlation')\n",
    "f.tight_layout()\n",
    "\n",
    "for subplot_ax in ax:\n",
    "    for spine in subplot_ax.spines.values():\n",
    "        spine.set_visible(True)\n",
    "\n",
    "#f.savefig('new_corr_plots.png',bbox_inches='tight')"
   ]
  },
  {
   "cell_type": "markdown",
   "id": "38a5af50",
   "metadata": {},
   "source": [
    "#### Analysis\n",
    "It seems that there is block structure in the input, that may be useful to diagonalize to extract reduced dimensionality features.\n",
    "\n",
    "We do a hierarchical clustering to be sure that the blocks that we see are the best blocks possible"
   ]
  },
  {
   "cell_type": "code",
   "execution_count": 7,
   "id": "b0eca79f",
   "metadata": {},
   "outputs": [],
   "source": [
    "features_subset = features_raw.sample(n=10000, random_state=12) #We take a random subset of the dataset to be able to do clustering\n",
    "features_subset.shape\n",
    "subset_correlation = features_subset.corr()\n",
    "distance_matrix = np.ones(np.shape(subset_correlation))-subset_correlation"
   ]
  },
  {
   "cell_type": "code",
   "execution_count": 8,
   "id": "4ae72f87",
   "metadata": {},
   "outputs": [
    {
     "name": "stdout",
     "output_type": "stream",
     "text": [
      "[0 1 1 1 1 0 0 0 0 1 1 1 1]\n",
      "[2 0 0 0 0 1 1 1 1 0 0 0 0]\n",
      "[2 3 3 3 3 1 1 1 1 0 0 0 0]\n",
      "[2 3 3 3 3 1 1 1 1 0 0 0 4]\n",
      "[5 3 3 3 3 0 0 0 0 1 1 2 4]\n",
      "[5 3 3 3 3 1 1 2 2 0 0 6 4]\n",
      "[5 1 1 1 1 0 0 2 2 7 3 6 4]\n",
      "[5 0 0 0 0 8 4 2 2 7 3 6 1]\n"
     ]
    }
   ],
   "source": [
    "silhouette_values = []\n",
    "range_nclusters = range(2,10)\n",
    "features_subset_np = features_subset.to_numpy().T\n",
    "for i in range_nclusters:\n",
    "    hie_clusterer = AgglomerativeClustering(n_clusters=i, metric='precomputed',linkage='complete')\n",
    "    labels = hie_clusterer.fit_predict(distance_matrix)\n",
    "    sil = silhouette_score(features_subset_np, labels)\n",
    "    print(labels)\n",
    "    silhouette_values.append((i,sil))\n",
    "\n",
    "\n",
    "silhouette_values = np.array(silhouette_values)"
   ]
  },
  {
   "cell_type": "code",
   "execution_count": 9,
   "id": "68d9fa32",
   "metadata": {},
   "outputs": [
    {
     "data": {
      "text/plain": [
       "array([[ 2.00000000e+00,  1.73405107e-01],\n",
       "       [ 3.00000000e+00, -1.48040598e-01],\n",
       "       [ 4.00000000e+00,  4.76326722e-02],\n",
       "       [ 5.00000000e+00,  7.78797145e-03],\n",
       "       [ 6.00000000e+00,  1.74120332e-03],\n",
       "       [ 7.00000000e+00,  9.37109353e-02],\n",
       "       [ 8.00000000e+00,  1.62788013e-01],\n",
       "       [ 9.00000000e+00,  1.40394738e-01]])"
      ]
     },
     "execution_count": 9,
     "metadata": {},
     "output_type": "execute_result"
    }
   ],
   "source": [
    "silhouette_values"
   ]
  },
  {
   "cell_type": "code",
   "execution_count": null,
   "id": "7f0ddba8",
   "metadata": {},
   "outputs": [],
   "source": [
    "plt.plot(silhouette_values[:,0],silhouette_values[:,1])"
   ]
  },
  {
   "cell_type": "code",
   "execution_count": 11,
   "id": "075ef470",
   "metadata": {},
   "outputs": [],
   "source": [
    "dist_squareform = squareform(distance_matrix)\n",
    "linked = linkage(dist_squareform,method='complete')"
   ]
  },
  {
   "cell_type": "code",
   "execution_count": null,
   "id": "3f518b13",
   "metadata": {},
   "outputs": [],
   "source": [
    "f = plt.figure(figsize=(10, 8))\n",
    "ax = f.add_axes((0.1,0.1,0.8,0.8))\n",
    "dendrogram(linked,\n",
    "            orientation='top',\n",
    "            labels=subset_correlation.columns.to_list(),\n",
    "            distance_sort='descending',\n",
    "            show_leaf_counts=True,\n",
    "            ax=ax)\n",
    "ax.set_title('Dendrogram for feature clustering', fontsize=16)\n",
    "ax.set_ylabel('Distance', fontsize=12)\n",
    "ax.set_xlabel('Features', fontsize=12)\n",
    "ax.grid(axis='y')\n",
    "f.tight_layout()\n",
    "#f.savefig('dendogram_hierarchical.png')\n"
   ]
  },
  {
   "cell_type": "code",
   "execution_count": 13,
   "id": "c29d3fe5",
   "metadata": {},
   "outputs": [],
   "source": [
    "f_np = features_raw.to_numpy()"
   ]
  },
  {
   "cell_type": "code",
   "execution_count": 14,
   "id": "d2e7c76e",
   "metadata": {},
   "outputs": [
    {
     "data": {
      "text/plain": [
       "array([[ 9.81599658e-02, -1.75981481e-01, -8.64688889e-02, ...,\n",
       "         1.01300691e+00,  1.00056313e+00,  9.99396645e-01],\n",
       "       [ 3.07296818e-04, -6.64161682e-02,  3.60711506e-02, ...,\n",
       "         9.96735437e-01,  1.00222580e+00,  1.01306334e+00],\n",
       "       [ 3.88056025e-04,  1.90942530e-01,  1.87539757e-01, ...,\n",
       "         9.05275348e-01,  9.53599555e-01,  9.86346505e-01],\n",
       "       ...,\n",
       "       [ 9.73470629e-02, -2.28548485e-02,  2.44727273e-04, ...,\n",
       "         1.00406630e+00,  1.00093355e+00,  1.00078816e+00],\n",
       "       [ 3.37148531e-04, -7.68181451e+00, -7.37704766e+00, ...,\n",
       "         2.71207186e-01,  9.95494955e-01,  1.00985212e+00],\n",
       "       [ 5.29399125e-01,  7.15875424e-01,  1.83415254e-02, ...,\n",
       "         2.30007092e-01,  3.17572598e-01,  8.86747051e-01]],\n",
       "      shape=(202933, 13))"
      ]
     },
     "execution_count": 14,
     "metadata": {},
     "output_type": "execute_result"
    }
   ],
   "source": [
    "f_np"
   ]
  },
  {
   "cell_type": "code",
   "execution_count": 20,
   "id": "762329e3",
   "metadata": {},
   "outputs": [],
   "source": [
    "from sklearn.model_selection import KFold"
   ]
  },
  {
   "cell_type": "code",
   "execution_count": 21,
   "id": "891575f0",
   "metadata": {},
   "outputs": [],
   "source": [
    "kfolder = KFold(n_splits=4)\n"
   ]
  },
  {
   "cell_type": "code",
   "execution_count": 36,
   "id": "be1a689c",
   "metadata": {},
   "outputs": [],
   "source": [
    "x_data = 10+ np.arange(0,12)\n",
    "y_data = x_data ** 2"
   ]
  },
  {
   "cell_type": "code",
   "execution_count": 41,
   "id": "c6067c0b",
   "metadata": {},
   "outputs": [
    {
     "name": "stdout",
     "output_type": "stream",
     "text": [
      "0\n",
      "[ 3  4  5  6  7  8  9 10 11] [0 1 2]\n",
      "train set: [13 14 15 16 17 18 19 20 21]\n",
      "test set: [10 11 12]\n",
      "1\n",
      "[ 0  1  2  6  7  8  9 10 11] [3 4 5]\n",
      "train set: [10 11 12 16 17 18 19 20 21]\n",
      "test set: [13 14 15]\n",
      "2\n",
      "[ 0  1  2  3  4  5  9 10 11] [6 7 8]\n",
      "train set: [10 11 12 13 14 15 19 20 21]\n",
      "test set: [16 17 18]\n",
      "3\n",
      "[0 1 2 3 4 5 6 7 8] [ 9 10 11]\n",
      "train set: [10 11 12 13 14 15 16 17 18]\n",
      "test set: [19 20 21]\n"
     ]
    }
   ],
   "source": [
    "for i,(train_idxs, test_idxs) in enumerate(kfolder.split(x_data)):\n",
    "    print(i)\n",
    "    print(train_idxs, test_idxs)\n",
    "    print('train set:', x_data[train_idxs])\n",
    "    print('test set:', x_data[test_idxs])"
   ]
  },
  {
   "cell_type": "code",
   "execution_count": 60,
   "id": "a9939ceb",
   "metadata": {},
   "outputs": [],
   "source": [
    "kfolder = KFold(n_splits=4)\n",
    "kf_split = kfolder.split(y_data)"
   ]
  },
  {
   "cell_type": "code",
   "execution_count": 64,
   "id": "24cd58e5",
   "metadata": {},
   "outputs": [
    {
     "data": {
      "text/plain": [
       "(array([0, 1, 2, 3, 4, 5, 6, 7, 8]), array([ 9, 10, 11]))"
      ]
     },
     "execution_count": 64,
     "metadata": {},
     "output_type": "execute_result"
    }
   ],
   "source": [
    "kf_split.__next__()"
   ]
  },
  {
   "cell_type": "code",
   "execution_count": null,
   "id": "526d6154",
   "metadata": {},
   "outputs": [],
   "source": [
    "#playing with a possbile input format for the config\n",
    "\n",
    "SEARCH_SPACE_CONFIG = {\n",
    "    'lgbm': {\n",
    "        'n_estimators': {'type': 'int', 'range': [100, 1000]},\n",
    "        'learning_rate': {'type': 'float', 'range': [0.01, 0.3], 'kwargs': {'log': True}},\n",
    "        'max_depth': {'type': 'int', 'range': [3, 10]},\n",
    "        'num_leaves': {'type': 'int', 'range': [20, 300]}\n",
    "    },\n",
    "    'svr': {\n",
    "        'kernel': {'type': 'categorical', 'choices': ['linear', 'rbf', 'poly']},\n",
    "        'C': {'type': 'float', 'range': [1e-4, 1e4], 'kwargs': {'log': True}},\n",
    "        'gamma': {'type': 'float', 'range': [1e-4, 1e2], 'kwargs': {'log': True}}\n",
    "    }\n",
    "}\n"
   ]
  },
  {
   "cell_type": "code",
   "execution_count": 21,
   "id": "2ed97658",
   "metadata": {},
   "outputs": [
    {
     "data": {
      "text/plain": [
       "dict_items([('n_estimators', {'type': 'int', 'range': [100, 1000]}), ('learning_rate', {'type': 'float', 'range': [0.01, 0.3], 'kwargs': {'log': True}}), ('max_depth', {'type': 'int', 'range': [3, 10]}), ('num_leaves', {'type': 'int', 'range': [20, 300]})])"
      ]
     },
     "execution_count": 21,
     "metadata": {},
     "output_type": "execute_result"
    }
   ],
   "source": [
    "SEARCH_SPACE_CONFIG['lgbm'].items()"
   ]
  },
  {
   "cell_type": "code",
   "execution_count": 16,
   "id": "b6996b85",
   "metadata": {},
   "outputs": [
    {
     "data": {
      "text/plain": [
       "dict_items([('n_estimators', {'type': 'int', 'range': [100, 1000]}), ('learning_rate', {'type': 'float', 'range': [0.01, 0.3], 'kwargs': {'log': True}}), ('max_depth', {'type': 'int', 'range': [3, 10]}), ('num_leaves', {'type': 'int', 'range': [20, 300]})])"
      ]
     },
     "execution_count": 16,
     "metadata": {},
     "output_type": "execute_result"
    }
   ],
   "source": [
    "a"
   ]
  },
  {
   "cell_type": "code",
   "execution_count": null,
   "id": "938223b0",
   "metadata": {},
   "outputs": [],
   "source": []
  }
 ],
 "metadata": {
  "kernelspec": {
   "display_name": "gas_challenge",
   "language": "python",
   "name": "python3"
  },
  "language_info": {
   "codemirror_mode": {
    "name": "ipython",
    "version": 3
   },
   "file_extension": ".py",
   "mimetype": "text/x-python",
   "name": "python",
   "nbconvert_exporter": "python",
   "pygments_lexer": "ipython3",
   "version": "3.11.13"
  }
 },
 "nbformat": 4,
 "nbformat_minor": 5
}
